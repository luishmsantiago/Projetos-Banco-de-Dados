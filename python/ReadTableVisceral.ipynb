{
 "cells": [
  {
   "cell_type": "code",
   "execution_count": 1,
   "metadata": {},
   "outputs": [],
   "source": [
    "import pandas as pd\n",
    "import requests\n",
    "from bs4 import BeautifulSoup"
   ]
  },
  {
   "cell_type": "code",
   "execution_count": 2,
   "metadata": {},
   "outputs": [],
   "source": [
    "url = 'https://www.med.umich.edu/lrc/anatomy-tables/viscera_alpha.html'\n",
    "soup = BeautifulSoup(requests.get(url).content, 'html.parser')\n",
    "tables = soup.find_all('table')"
   ]
  },
  {
   "cell_type": "code",
   "execution_count": 4,
   "metadata": {},
   "outputs": [],
   "source": [
    "def generate_df(table):\n",
    "    lines = []\n",
    "    for i, row in enumerate(table.find_all('tr')[1:]):\n",
    "        elem = 'th' if i == 0 else 'td'\n",
    "        line = [row.text for row in row.find_all(elem)[:4]]\n",
    "        lines.append(line)\n",
    "\n",
    "    return pd.DataFrame(lines[1:], columns=lines[0])"
   ]
  },
  {
   "cell_type": "code",
   "execution_count": 13,
   "metadata": {},
   "outputs": [
    {
     "data": {
      "text/plain": [
       "[<td>atrioventricular valve, left</td>,\n",
       " <td>heart valve located between the left atrium and the left ventricle</td>,\n",
       " <td>left atrioventricular valve has two valve cusps; also known as: mitral or \n",
       "    bicuspid valve</td>]"
      ]
     },
     "execution_count": 13,
     "metadata": {},
     "output_type": "execute_result"
    }
   ],
   "source": [
    "#tables[1].find_all('tr')[5].find_all('td')[:4]"
   ]
  },
  {
   "cell_type": "code",
   "execution_count": 7,
   "metadata": {},
   "outputs": [],
   "source": [
    "names = ['thorax', 'abdomen', 'pelvis_perineum']\n",
    "dfs = {name: generate_df(tables[i]) for i, name in enumerate(names, start=1)}"
   ]
  },
  {
   "cell_type": "code",
   "execution_count": 11,
   "metadata": {},
   "outputs": [
    {
     "data": {
      "text/html": [
       "<div>\n",
       "<style scoped>\n",
       "    .dataframe tbody tr th:only-of-type {\n",
       "        vertical-align: middle;\n",
       "    }\n",
       "\n",
       "    .dataframe tbody tr th {\n",
       "        vertical-align: top;\n",
       "    }\n",
       "\n",
       "    .dataframe thead th {\n",
       "        text-align: right;\n",
       "    }\n",
       "</style>\n",
       "<table border=\"1\" class=\"dataframe\">\n",
       "  <thead>\n",
       "    <tr style=\"text-align: right;\">\n",
       "      <th></th>\n",
       "      <th>Organ/Part of Organ</th>\n",
       "      <th>Location/Description</th>\n",
       "      <th>Notes</th>\n",
       "    </tr>\n",
       "  </thead>\n",
       "  <tbody>\n",
       "    <tr>\n",
       "      <th>0</th>\n",
       "      <td>apexadrenal glandampulla of the ductus deferens</td>\n",
       "      <td>tip of the left ventricle of the heartendocrin...</td>\n",
       "      <td>apex of the heart is located 3\" to the left of...</td>\n",
       "    </tr>\n",
       "    <tr>\n",
       "      <th>1</th>\n",
       "      <td>atrioventricular bundleangular notch of the st...</td>\n",
       "      <td>part of the conduction system of the hearta sh...</td>\n",
       "      <td>atrioventricular bundle is a strand of special...</td>\n",
       "    </tr>\n",
       "    <tr>\n",
       "      <th>2</th>\n",
       "      <td>atrioventricular nodeappendix, vermiformanal c...</td>\n",
       "      <td>part of the conduction system of the heartterm...</td>\n",
       "      <td>atrioventricular node is located in the wall o...</td>\n",
       "    </tr>\n",
       "    <tr>\n",
       "      <th>3</th>\n",
       "      <td>atrioventricular valve, leftappendix epiploica...</td>\n",
       "      <td>heart valve located between the left atrium an...</td>\n",
       "      <td>left atrioventricular valve has two valve cusp...</td>\n",
       "    </tr>\n",
       "    <tr>\n",
       "      <th>4</th>\n",
       "      <td>atrioventricular valve, rightascending colonan...</td>\n",
       "      <td>atrioventricular node between the right atrium...</td>\n",
       "      <td>right atrioventricular valve has three valve c...</td>\n",
       "    </tr>\n",
       "    <tr>\n",
       "      <th>...</th>\n",
       "      <td>...</td>\n",
       "      <td>...</td>\n",
       "      <td>...</td>\n",
       "    </tr>\n",
       "    <tr>\n",
       "      <th>105</th>\n",
       "      <td>NaN</td>\n",
       "      <td>NaN</td>\n",
       "      <td>NaN</td>\n",
       "    </tr>\n",
       "    <tr>\n",
       "      <th>106</th>\n",
       "      <td>NaN</td>\n",
       "      <td>NaN</td>\n",
       "      <td>NaN</td>\n",
       "    </tr>\n",
       "    <tr>\n",
       "      <th>107</th>\n",
       "      <td>NaN</td>\n",
       "      <td>NaN</td>\n",
       "      <td>NaN</td>\n",
       "    </tr>\n",
       "    <tr>\n",
       "      <th>108</th>\n",
       "      <td>NaN</td>\n",
       "      <td>NaN</td>\n",
       "      <td>NaN</td>\n",
       "    </tr>\n",
       "    <tr>\n",
       "      <th>109</th>\n",
       "      <td>NaN</td>\n",
       "      <td>NaN</td>\n",
       "      <td>NaN</td>\n",
       "    </tr>\n",
       "  </tbody>\n",
       "</table>\n",
       "<p>110 rows × 3 columns</p>\n",
       "</div>"
      ],
      "text/plain": [
       "                                   Organ/Part of Organ  \\\n",
       "0      apexadrenal glandampulla of the ductus deferens   \n",
       "1    atrioventricular bundleangular notch of the st...   \n",
       "2    atrioventricular nodeappendix, vermiformanal c...   \n",
       "3    atrioventricular valve, leftappendix epiploica...   \n",
       "4    atrioventricular valve, rightascending colonan...   \n",
       "..                                                 ...   \n",
       "105                                                NaN   \n",
       "106                                                NaN   \n",
       "107                                                NaN   \n",
       "108                                                NaN   \n",
       "109                                                NaN   \n",
       "\n",
       "                                  Location/Description  \\\n",
       "0    tip of the left ventricle of the heartendocrin...   \n",
       "1    part of the conduction system of the hearta sh...   \n",
       "2    part of the conduction system of the heartterm...   \n",
       "3    heart valve located between the left atrium an...   \n",
       "4    atrioventricular node between the right atrium...   \n",
       "..                                                 ...   \n",
       "105                                                NaN   \n",
       "106                                                NaN   \n",
       "107                                                NaN   \n",
       "108                                                NaN   \n",
       "109                                                NaN   \n",
       "\n",
       "                                                 Notes  \n",
       "0    apex of the heart is located 3\" to the left of...  \n",
       "1    atrioventricular bundle is a strand of special...  \n",
       "2    atrioventricular node is located in the wall o...  \n",
       "3    left atrioventricular valve has two valve cusp...  \n",
       "4    right atrioventricular valve has three valve c...  \n",
       "..                                                 ...  \n",
       "105                                                NaN  \n",
       "106                                                NaN  \n",
       "107                                                NaN  \n",
       "108                                                NaN  \n",
       "109                                                NaN  \n",
       "\n",
       "[110 rows x 3 columns]"
      ]
     },
     "execution_count": 11,
     "metadata": {},
     "output_type": "execute_result"
    }
   ],
   "source": [
    "df2 = dfs['thorax'].copy() #.head(3)\n"
   ]
  }
 ],
 "metadata": {
  "kernelspec": {
   "display_name": "base",
   "language": "python",
   "name": "python3"
  },
  "language_info": {
   "codemirror_mode": {
    "name": "ipython",
    "version": 3
   },
   "file_extension": ".py",
   "mimetype": "text/x-python",
   "name": "python",
   "nbconvert_exporter": "python",
   "pygments_lexer": "ipython3",
   "version": "3.11.2"
  }
 },
 "nbformat": 4,
 "nbformat_minor": 2
}
